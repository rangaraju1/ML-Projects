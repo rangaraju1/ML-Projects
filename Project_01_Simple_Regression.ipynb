{
  "cells": [
    {
      "cell_type": "markdown",
      "metadata": {
        "id": "view-in-github",
        "colab_type": "text"
      },
      "source": [
        "<a href=\"https://colab.research.google.com/github/rangaraju1/ML-Projects/blob/main/Project_01_Simple_Regression.ipynb\" target=\"_parent\"><img src=\"https://colab.research.google.com/assets/colab-badge.svg\" alt=\"Open In Colab\"/></a>"
      ]
    },
    {
      "cell_type": "markdown",
      "metadata": {
        "id": "cFfn1Wt4rjjx"
      },
      "source": [
        "## Import Necessary Libraries"
      ]
    },
    {
      "cell_type": "code",
      "execution_count": 1,
      "metadata": {
        "id": "336eTOhYrjj3"
      },
      "outputs": [],
      "source": [
        "import torch\n",
        "import torch.nn as nn\n",
        "import numpy as np\n",
        "import pandas as pd\n",
        "import matplotlib.pyplot as plt\n",
        "from matplotlib import style\n",
        "style.use('dark_background')"
      ]
    },
    {
      "cell_type": "code",
      "source": [
        "from google.colab import drive\n",
        "drive.mount('/content/drive')"
      ],
      "metadata": {
        "colab": {
          "base_uri": "https://localhost:8080/"
        },
        "id": "DIrqSmKNHguo",
        "outputId": "5c863d00-bd61-449b-e756-e0d602ce4bf9"
      },
      "execution_count": 2,
      "outputs": [
        {
          "output_type": "stream",
          "name": "stdout",
          "text": [
            "Mounted at /content/drive\n"
          ]
        }
      ]
    },
    {
      "cell_type": "code",
      "source": [
        "%cd /content/drive/MyDrive/deeplearningoceanUdemy/Neural Networks for Regression"
      ],
      "metadata": {
        "colab": {
          "base_uri": "https://localhost:8080/"
        },
        "id": "uZyeqoaOHk9H",
        "outputId": "9bbb731d-2e24-4eab-dc40-b7efe73edeb5"
      },
      "execution_count": 5,
      "outputs": [
        {
          "output_type": "stream",
          "name": "stdout",
          "text": [
            "/content/drive/MyDrive/deeplearningoceanUdemy/Neural Networks for Regression\n"
          ]
        }
      ]
    },
    {
      "cell_type": "code",
      "source": [
        "data = pd.read_csv(\"Regression_Data.csv\")"
      ],
      "metadata": {
        "id": "8LcDcMFRCcFZ"
      },
      "execution_count": 6,
      "outputs": []
    },
    {
      "cell_type": "code",
      "source": [
        "data"
      ],
      "metadata": {
        "id": "4Nnhb9EmFNtB",
        "colab": {
          "base_uri": "https://localhost:8080/",
          "height": 990
        },
        "outputId": "be288ff4-e75b-4898-9894-bf457edb6c0f"
      },
      "execution_count": 7,
      "outputs": [
        {
          "output_type": "execute_result",
          "data": {
            "text/plain": [
              "    Ind_Data  Dependent_Data\n",
              "0        1.1           39343\n",
              "1        1.3           46205\n",
              "2        1.5           37731\n",
              "3        2.0           43525\n",
              "4        2.2           39891\n",
              "5        2.9           56642\n",
              "6        3.0           60150\n",
              "7        3.2           54445\n",
              "8        3.2           64445\n",
              "9        3.7           57189\n",
              "10       3.9           63218\n",
              "11       4.0           55794\n",
              "12       4.0           56957\n",
              "13       4.1           57081\n",
              "14       4.5           61111\n",
              "15       4.9           67938\n",
              "16       5.1           66029\n",
              "17       5.3           83088\n",
              "18       5.9           81363\n",
              "19       6.0           93940\n",
              "20       6.8           91738\n",
              "21       7.1           98273\n",
              "22       7.9          101302\n",
              "23       8.2          113812\n",
              "24       8.7          109431\n",
              "25       9.0          105582\n",
              "26       9.5          116969\n",
              "27       9.6          112635\n",
              "28      10.3          122391\n",
              "29      10.5          121872"
            ],
            "text/html": [
              "\n",
              "  <div id=\"df-af3a6a8a-a524-41db-9269-1f0a6d427bb5\" class=\"colab-df-container\">\n",
              "    <div>\n",
              "<style scoped>\n",
              "    .dataframe tbody tr th:only-of-type {\n",
              "        vertical-align: middle;\n",
              "    }\n",
              "\n",
              "    .dataframe tbody tr th {\n",
              "        vertical-align: top;\n",
              "    }\n",
              "\n",
              "    .dataframe thead th {\n",
              "        text-align: right;\n",
              "    }\n",
              "</style>\n",
              "<table border=\"1\" class=\"dataframe\">\n",
              "  <thead>\n",
              "    <tr style=\"text-align: right;\">\n",
              "      <th></th>\n",
              "      <th>Ind_Data</th>\n",
              "      <th>Dependent_Data</th>\n",
              "    </tr>\n",
              "  </thead>\n",
              "  <tbody>\n",
              "    <tr>\n",
              "      <th>0</th>\n",
              "      <td>1.1</td>\n",
              "      <td>39343</td>\n",
              "    </tr>\n",
              "    <tr>\n",
              "      <th>1</th>\n",
              "      <td>1.3</td>\n",
              "      <td>46205</td>\n",
              "    </tr>\n",
              "    <tr>\n",
              "      <th>2</th>\n",
              "      <td>1.5</td>\n",
              "      <td>37731</td>\n",
              "    </tr>\n",
              "    <tr>\n",
              "      <th>3</th>\n",
              "      <td>2.0</td>\n",
              "      <td>43525</td>\n",
              "    </tr>\n",
              "    <tr>\n",
              "      <th>4</th>\n",
              "      <td>2.2</td>\n",
              "      <td>39891</td>\n",
              "    </tr>\n",
              "    <tr>\n",
              "      <th>5</th>\n",
              "      <td>2.9</td>\n",
              "      <td>56642</td>\n",
              "    </tr>\n",
              "    <tr>\n",
              "      <th>6</th>\n",
              "      <td>3.0</td>\n",
              "      <td>60150</td>\n",
              "    </tr>\n",
              "    <tr>\n",
              "      <th>7</th>\n",
              "      <td>3.2</td>\n",
              "      <td>54445</td>\n",
              "    </tr>\n",
              "    <tr>\n",
              "      <th>8</th>\n",
              "      <td>3.2</td>\n",
              "      <td>64445</td>\n",
              "    </tr>\n",
              "    <tr>\n",
              "      <th>9</th>\n",
              "      <td>3.7</td>\n",
              "      <td>57189</td>\n",
              "    </tr>\n",
              "    <tr>\n",
              "      <th>10</th>\n",
              "      <td>3.9</td>\n",
              "      <td>63218</td>\n",
              "    </tr>\n",
              "    <tr>\n",
              "      <th>11</th>\n",
              "      <td>4.0</td>\n",
              "      <td>55794</td>\n",
              "    </tr>\n",
              "    <tr>\n",
              "      <th>12</th>\n",
              "      <td>4.0</td>\n",
              "      <td>56957</td>\n",
              "    </tr>\n",
              "    <tr>\n",
              "      <th>13</th>\n",
              "      <td>4.1</td>\n",
              "      <td>57081</td>\n",
              "    </tr>\n",
              "    <tr>\n",
              "      <th>14</th>\n",
              "      <td>4.5</td>\n",
              "      <td>61111</td>\n",
              "    </tr>\n",
              "    <tr>\n",
              "      <th>15</th>\n",
              "      <td>4.9</td>\n",
              "      <td>67938</td>\n",
              "    </tr>\n",
              "    <tr>\n",
              "      <th>16</th>\n",
              "      <td>5.1</td>\n",
              "      <td>66029</td>\n",
              "    </tr>\n",
              "    <tr>\n",
              "      <th>17</th>\n",
              "      <td>5.3</td>\n",
              "      <td>83088</td>\n",
              "    </tr>\n",
              "    <tr>\n",
              "      <th>18</th>\n",
              "      <td>5.9</td>\n",
              "      <td>81363</td>\n",
              "    </tr>\n",
              "    <tr>\n",
              "      <th>19</th>\n",
              "      <td>6.0</td>\n",
              "      <td>93940</td>\n",
              "    </tr>\n",
              "    <tr>\n",
              "      <th>20</th>\n",
              "      <td>6.8</td>\n",
              "      <td>91738</td>\n",
              "    </tr>\n",
              "    <tr>\n",
              "      <th>21</th>\n",
              "      <td>7.1</td>\n",
              "      <td>98273</td>\n",
              "    </tr>\n",
              "    <tr>\n",
              "      <th>22</th>\n",
              "      <td>7.9</td>\n",
              "      <td>101302</td>\n",
              "    </tr>\n",
              "    <tr>\n",
              "      <th>23</th>\n",
              "      <td>8.2</td>\n",
              "      <td>113812</td>\n",
              "    </tr>\n",
              "    <tr>\n",
              "      <th>24</th>\n",
              "      <td>8.7</td>\n",
              "      <td>109431</td>\n",
              "    </tr>\n",
              "    <tr>\n",
              "      <th>25</th>\n",
              "      <td>9.0</td>\n",
              "      <td>105582</td>\n",
              "    </tr>\n",
              "    <tr>\n",
              "      <th>26</th>\n",
              "      <td>9.5</td>\n",
              "      <td>116969</td>\n",
              "    </tr>\n",
              "    <tr>\n",
              "      <th>27</th>\n",
              "      <td>9.6</td>\n",
              "      <td>112635</td>\n",
              "    </tr>\n",
              "    <tr>\n",
              "      <th>28</th>\n",
              "      <td>10.3</td>\n",
              "      <td>122391</td>\n",
              "    </tr>\n",
              "    <tr>\n",
              "      <th>29</th>\n",
              "      <td>10.5</td>\n",
              "      <td>121872</td>\n",
              "    </tr>\n",
              "  </tbody>\n",
              "</table>\n",
              "</div>\n",
              "    <div class=\"colab-df-buttons\">\n",
              "\n",
              "  <div class=\"colab-df-container\">\n",
              "    <button class=\"colab-df-convert\" onclick=\"convertToInteractive('df-af3a6a8a-a524-41db-9269-1f0a6d427bb5')\"\n",
              "            title=\"Convert this dataframe to an interactive table.\"\n",
              "            style=\"display:none;\">\n",
              "\n",
              "  <svg xmlns=\"http://www.w3.org/2000/svg\" height=\"24px\" viewBox=\"0 -960 960 960\">\n",
              "    <path d=\"M120-120v-720h720v720H120Zm60-500h600v-160H180v160Zm220 220h160v-160H400v160Zm0 220h160v-160H400v160ZM180-400h160v-160H180v160Zm440 0h160v-160H620v160ZM180-180h160v-160H180v160Zm440 0h160v-160H620v160Z\"/>\n",
              "  </svg>\n",
              "    </button>\n",
              "\n",
              "  <style>\n",
              "    .colab-df-container {\n",
              "      display:flex;\n",
              "      gap: 12px;\n",
              "    }\n",
              "\n",
              "    .colab-df-convert {\n",
              "      background-color: #E8F0FE;\n",
              "      border: none;\n",
              "      border-radius: 50%;\n",
              "      cursor: pointer;\n",
              "      display: none;\n",
              "      fill: #1967D2;\n",
              "      height: 32px;\n",
              "      padding: 0 0 0 0;\n",
              "      width: 32px;\n",
              "    }\n",
              "\n",
              "    .colab-df-convert:hover {\n",
              "      background-color: #E2EBFA;\n",
              "      box-shadow: 0px 1px 2px rgba(60, 64, 67, 0.3), 0px 1px 3px 1px rgba(60, 64, 67, 0.15);\n",
              "      fill: #174EA6;\n",
              "    }\n",
              "\n",
              "    .colab-df-buttons div {\n",
              "      margin-bottom: 4px;\n",
              "    }\n",
              "\n",
              "    [theme=dark] .colab-df-convert {\n",
              "      background-color: #3B4455;\n",
              "      fill: #D2E3FC;\n",
              "    }\n",
              "\n",
              "    [theme=dark] .colab-df-convert:hover {\n",
              "      background-color: #434B5C;\n",
              "      box-shadow: 0px 1px 3px 1px rgba(0, 0, 0, 0.15);\n",
              "      filter: drop-shadow(0px 1px 2px rgba(0, 0, 0, 0.3));\n",
              "      fill: #FFFFFF;\n",
              "    }\n",
              "  </style>\n",
              "\n",
              "    <script>\n",
              "      const buttonEl =\n",
              "        document.querySelector('#df-af3a6a8a-a524-41db-9269-1f0a6d427bb5 button.colab-df-convert');\n",
              "      buttonEl.style.display =\n",
              "        google.colab.kernel.accessAllowed ? 'block' : 'none';\n",
              "\n",
              "      async function convertToInteractive(key) {\n",
              "        const element = document.querySelector('#df-af3a6a8a-a524-41db-9269-1f0a6d427bb5');\n",
              "        const dataTable =\n",
              "          await google.colab.kernel.invokeFunction('convertToInteractive',\n",
              "                                                    [key], {});\n",
              "        if (!dataTable) return;\n",
              "\n",
              "        const docLinkHtml = 'Like what you see? Visit the ' +\n",
              "          '<a target=\"_blank\" href=https://colab.research.google.com/notebooks/data_table.ipynb>data table notebook</a>'\n",
              "          + ' to learn more about interactive tables.';\n",
              "        element.innerHTML = '';\n",
              "        dataTable['output_type'] = 'display_data';\n",
              "        await google.colab.output.renderOutput(dataTable, element);\n",
              "        const docLink = document.createElement('div');\n",
              "        docLink.innerHTML = docLinkHtml;\n",
              "        element.appendChild(docLink);\n",
              "      }\n",
              "    </script>\n",
              "  </div>\n",
              "\n",
              "\n",
              "    <div id=\"df-f6f2f591-030a-4574-97e7-662bd44b998b\">\n",
              "      <button class=\"colab-df-quickchart\" onclick=\"quickchart('df-f6f2f591-030a-4574-97e7-662bd44b998b')\"\n",
              "                title=\"Suggest charts\"\n",
              "                style=\"display:none;\">\n",
              "\n",
              "<svg xmlns=\"http://www.w3.org/2000/svg\" height=\"24px\"viewBox=\"0 0 24 24\"\n",
              "     width=\"24px\">\n",
              "    <g>\n",
              "        <path d=\"M19 3H5c-1.1 0-2 .9-2 2v14c0 1.1.9 2 2 2h14c1.1 0 2-.9 2-2V5c0-1.1-.9-2-2-2zM9 17H7v-7h2v7zm4 0h-2V7h2v10zm4 0h-2v-4h2v4z\"/>\n",
              "    </g>\n",
              "</svg>\n",
              "      </button>\n",
              "\n",
              "<style>\n",
              "  .colab-df-quickchart {\n",
              "      --bg-color: #E8F0FE;\n",
              "      --fill-color: #1967D2;\n",
              "      --hover-bg-color: #E2EBFA;\n",
              "      --hover-fill-color: #174EA6;\n",
              "      --disabled-fill-color: #AAA;\n",
              "      --disabled-bg-color: #DDD;\n",
              "  }\n",
              "\n",
              "  [theme=dark] .colab-df-quickchart {\n",
              "      --bg-color: #3B4455;\n",
              "      --fill-color: #D2E3FC;\n",
              "      --hover-bg-color: #434B5C;\n",
              "      --hover-fill-color: #FFFFFF;\n",
              "      --disabled-bg-color: #3B4455;\n",
              "      --disabled-fill-color: #666;\n",
              "  }\n",
              "\n",
              "  .colab-df-quickchart {\n",
              "    background-color: var(--bg-color);\n",
              "    border: none;\n",
              "    border-radius: 50%;\n",
              "    cursor: pointer;\n",
              "    display: none;\n",
              "    fill: var(--fill-color);\n",
              "    height: 32px;\n",
              "    padding: 0;\n",
              "    width: 32px;\n",
              "  }\n",
              "\n",
              "  .colab-df-quickchart:hover {\n",
              "    background-color: var(--hover-bg-color);\n",
              "    box-shadow: 0 1px 2px rgba(60, 64, 67, 0.3), 0 1px 3px 1px rgba(60, 64, 67, 0.15);\n",
              "    fill: var(--button-hover-fill-color);\n",
              "  }\n",
              "\n",
              "  .colab-df-quickchart-complete:disabled,\n",
              "  .colab-df-quickchart-complete:disabled:hover {\n",
              "    background-color: var(--disabled-bg-color);\n",
              "    fill: var(--disabled-fill-color);\n",
              "    box-shadow: none;\n",
              "  }\n",
              "\n",
              "  .colab-df-spinner {\n",
              "    border: 2px solid var(--fill-color);\n",
              "    border-color: transparent;\n",
              "    border-bottom-color: var(--fill-color);\n",
              "    animation:\n",
              "      spin 1s steps(1) infinite;\n",
              "  }\n",
              "\n",
              "  @keyframes spin {\n",
              "    0% {\n",
              "      border-color: transparent;\n",
              "      border-bottom-color: var(--fill-color);\n",
              "      border-left-color: var(--fill-color);\n",
              "    }\n",
              "    20% {\n",
              "      border-color: transparent;\n",
              "      border-left-color: var(--fill-color);\n",
              "      border-top-color: var(--fill-color);\n",
              "    }\n",
              "    30% {\n",
              "      border-color: transparent;\n",
              "      border-left-color: var(--fill-color);\n",
              "      border-top-color: var(--fill-color);\n",
              "      border-right-color: var(--fill-color);\n",
              "    }\n",
              "    40% {\n",
              "      border-color: transparent;\n",
              "      border-right-color: var(--fill-color);\n",
              "      border-top-color: var(--fill-color);\n",
              "    }\n",
              "    60% {\n",
              "      border-color: transparent;\n",
              "      border-right-color: var(--fill-color);\n",
              "    }\n",
              "    80% {\n",
              "      border-color: transparent;\n",
              "      border-right-color: var(--fill-color);\n",
              "      border-bottom-color: var(--fill-color);\n",
              "    }\n",
              "    90% {\n",
              "      border-color: transparent;\n",
              "      border-bottom-color: var(--fill-color);\n",
              "    }\n",
              "  }\n",
              "</style>\n",
              "\n",
              "      <script>\n",
              "        async function quickchart(key) {\n",
              "          const quickchartButtonEl =\n",
              "            document.querySelector('#' + key + ' button');\n",
              "          quickchartButtonEl.disabled = true;  // To prevent multiple clicks.\n",
              "          quickchartButtonEl.classList.add('colab-df-spinner');\n",
              "          try {\n",
              "            const charts = await google.colab.kernel.invokeFunction(\n",
              "                'suggestCharts', [key], {});\n",
              "          } catch (error) {\n",
              "            console.error('Error during call to suggestCharts:', error);\n",
              "          }\n",
              "          quickchartButtonEl.classList.remove('colab-df-spinner');\n",
              "          quickchartButtonEl.classList.add('colab-df-quickchart-complete');\n",
              "        }\n",
              "        (() => {\n",
              "          let quickchartButtonEl =\n",
              "            document.querySelector('#df-f6f2f591-030a-4574-97e7-662bd44b998b button');\n",
              "          quickchartButtonEl.style.display =\n",
              "            google.colab.kernel.accessAllowed ? 'block' : 'none';\n",
              "        })();\n",
              "      </script>\n",
              "    </div>\n",
              "\n",
              "  <div id=\"id_e03c46b3-0da6-418c-ad65-c8bff62a2d83\">\n",
              "    <style>\n",
              "      .colab-df-generate {\n",
              "        background-color: #E8F0FE;\n",
              "        border: none;\n",
              "        border-radius: 50%;\n",
              "        cursor: pointer;\n",
              "        display: none;\n",
              "        fill: #1967D2;\n",
              "        height: 32px;\n",
              "        padding: 0 0 0 0;\n",
              "        width: 32px;\n",
              "      }\n",
              "\n",
              "      .colab-df-generate:hover {\n",
              "        background-color: #E2EBFA;\n",
              "        box-shadow: 0px 1px 2px rgba(60, 64, 67, 0.3), 0px 1px 3px 1px rgba(60, 64, 67, 0.15);\n",
              "        fill: #174EA6;\n",
              "      }\n",
              "\n",
              "      [theme=dark] .colab-df-generate {\n",
              "        background-color: #3B4455;\n",
              "        fill: #D2E3FC;\n",
              "      }\n",
              "\n",
              "      [theme=dark] .colab-df-generate:hover {\n",
              "        background-color: #434B5C;\n",
              "        box-shadow: 0px 1px 3px 1px rgba(0, 0, 0, 0.15);\n",
              "        filter: drop-shadow(0px 1px 2px rgba(0, 0, 0, 0.3));\n",
              "        fill: #FFFFFF;\n",
              "      }\n",
              "    </style>\n",
              "    <button class=\"colab-df-generate\" onclick=\"generateWithVariable('data')\"\n",
              "            title=\"Generate code using this dataframe.\"\n",
              "            style=\"display:none;\">\n",
              "\n",
              "  <svg xmlns=\"http://www.w3.org/2000/svg\" height=\"24px\"viewBox=\"0 0 24 24\"\n",
              "       width=\"24px\">\n",
              "    <path d=\"M7,19H8.4L18.45,9,17,7.55,7,17.6ZM5,21V16.75L18.45,3.32a2,2,0,0,1,2.83,0l1.4,1.43a1.91,1.91,0,0,1,.58,1.4,1.91,1.91,0,0,1-.58,1.4L9.25,21ZM18.45,9,17,7.55Zm-12,3A5.31,5.31,0,0,0,4.9,8.1,5.31,5.31,0,0,0,1,6.5,5.31,5.31,0,0,0,4.9,4.9,5.31,5.31,0,0,0,6.5,1,5.31,5.31,0,0,0,8.1,4.9,5.31,5.31,0,0,0,12,6.5,5.46,5.46,0,0,0,6.5,12Z\"/>\n",
              "  </svg>\n",
              "    </button>\n",
              "    <script>\n",
              "      (() => {\n",
              "      const buttonEl =\n",
              "        document.querySelector('#id_e03c46b3-0da6-418c-ad65-c8bff62a2d83 button.colab-df-generate');\n",
              "      buttonEl.style.display =\n",
              "        google.colab.kernel.accessAllowed ? 'block' : 'none';\n",
              "\n",
              "      buttonEl.onclick = () => {\n",
              "        google.colab.notebook.generateWithVariable('data');\n",
              "      }\n",
              "      })();\n",
              "    </script>\n",
              "  </div>\n",
              "\n",
              "    </div>\n",
              "  </div>\n"
            ],
            "application/vnd.google.colaboratory.intrinsic+json": {
              "type": "dataframe",
              "variable_name": "data",
              "summary": "{\n  \"name\": \"data\",\n  \"rows\": 30,\n  \"fields\": [\n    {\n      \"column\": \"Ind_Data\",\n      \"properties\": {\n        \"dtype\": \"number\",\n        \"std\": 2.8378881576627184,\n        \"min\": 1.1,\n        \"max\": 10.5,\n        \"num_unique_values\": 28,\n        \"samples\": [\n          3.9,\n          9.6,\n          3.7\n        ],\n        \"semantic_type\": \"\",\n        \"description\": \"\"\n      }\n    },\n    {\n      \"column\": \"Dependent_Data\",\n      \"properties\": {\n        \"dtype\": \"number\",\n        \"std\": 27414,\n        \"min\": 37731,\n        \"max\": 122391,\n        \"num_unique_values\": 30,\n        \"samples\": [\n          112635,\n          67938,\n          113812\n        ],\n        \"semantic_type\": \"\",\n        \"description\": \"\"\n      }\n    }\n  ]\n}"
            }
          },
          "metadata": {},
          "execution_count": 7
        }
      ]
    },
    {
      "cell_type": "code",
      "source": [
        "X = data['Ind_Data'].values.reshape(-1,1)\n",
        "X"
      ],
      "metadata": {
        "id": "DuBZrowWFNwQ",
        "colab": {
          "base_uri": "https://localhost:8080/"
        },
        "outputId": "a5e0c6e0-a2a8-4f88-901b-70d6b0e71e92"
      },
      "execution_count": 8,
      "outputs": [
        {
          "output_type": "execute_result",
          "data": {
            "text/plain": [
              "array([[ 1.1],\n",
              "       [ 1.3],\n",
              "       [ 1.5],\n",
              "       [ 2. ],\n",
              "       [ 2.2],\n",
              "       [ 2.9],\n",
              "       [ 3. ],\n",
              "       [ 3.2],\n",
              "       [ 3.2],\n",
              "       [ 3.7],\n",
              "       [ 3.9],\n",
              "       [ 4. ],\n",
              "       [ 4. ],\n",
              "       [ 4.1],\n",
              "       [ 4.5],\n",
              "       [ 4.9],\n",
              "       [ 5.1],\n",
              "       [ 5.3],\n",
              "       [ 5.9],\n",
              "       [ 6. ],\n",
              "       [ 6.8],\n",
              "       [ 7.1],\n",
              "       [ 7.9],\n",
              "       [ 8.2],\n",
              "       [ 8.7],\n",
              "       [ 9. ],\n",
              "       [ 9.5],\n",
              "       [ 9.6],\n",
              "       [10.3],\n",
              "       [10.5]])"
            ]
          },
          "metadata": {},
          "execution_count": 8
        }
      ]
    },
    {
      "cell_type": "code",
      "source": [
        "y = data['Dependent_Data'].values.reshape(-1,1)\n",
        "y"
      ],
      "metadata": {
        "id": "aOtSjarKFNzJ",
        "colab": {
          "base_uri": "https://localhost:8080/"
        },
        "outputId": "72625fde-5744-4bea-f3ed-096ed258298f"
      },
      "execution_count": 9,
      "outputs": [
        {
          "output_type": "execute_result",
          "data": {
            "text/plain": [
              "array([[ 39343],\n",
              "       [ 46205],\n",
              "       [ 37731],\n",
              "       [ 43525],\n",
              "       [ 39891],\n",
              "       [ 56642],\n",
              "       [ 60150],\n",
              "       [ 54445],\n",
              "       [ 64445],\n",
              "       [ 57189],\n",
              "       [ 63218],\n",
              "       [ 55794],\n",
              "       [ 56957],\n",
              "       [ 57081],\n",
              "       [ 61111],\n",
              "       [ 67938],\n",
              "       [ 66029],\n",
              "       [ 83088],\n",
              "       [ 81363],\n",
              "       [ 93940],\n",
              "       [ 91738],\n",
              "       [ 98273],\n",
              "       [101302],\n",
              "       [113812],\n",
              "       [109431],\n",
              "       [105582],\n",
              "       [116969],\n",
              "       [112635],\n",
              "       [122391],\n",
              "       [121872]])"
            ]
          },
          "metadata": {},
          "execution_count": 9
        }
      ]
    },
    {
      "cell_type": "markdown",
      "metadata": {
        "id": "Yn8379q1rjj-"
      },
      "source": [
        "## Visualize the data"
      ]
    },
    {
      "cell_type": "code",
      "execution_count": 10,
      "metadata": {
        "id": "1MllUo26rjj_",
        "colab": {
          "base_uri": "https://localhost:8080/",
          "height": 548
        },
        "outputId": "25bcd33d-81f2-4fe0-8d5d-af0495691838"
      },
      "outputs": [
        {
          "output_type": "display_data",
          "data": {
            "text/plain": [
              "<Figure size 1200x600 with 1 Axes>"
            ],
            "image/png": "[encoded data removed]"
          },
          "metadata": {}
        }
      ],
      "source": [
        "plt.figure(figsize =(12,6))\n",
        "plt.scatter(X, y,color = 'b')\n",
        "plt.ylabel('y', fontsize = 15)\n",
        "plt.xlabel('X', fontsize = 15);"
      ]
    },
    {
      "cell_type": "markdown",
      "source": [
        "# Transforming to torch tensors"
      ],
      "metadata": {
        "id": "9i85f4_8KHwo"
      }
    },
    {
      "cell_type": "code",
      "source": [
        "X = torch.tensor(X, dtype=torch.float32)\n",
        "y = torch.tensor(y, dtype=torch.float32)"
      ],
      "metadata": {
        "id": "3lNwcSYyJ7VQ"
      },
      "execution_count": 11,
      "outputs": []
    },
    {
      "cell_type": "code",
      "source": [
        "X"
      ],
      "metadata": {
        "colab": {
          "base_uri": "https://localhost:8080/"
        },
        "id": "yd1XTkL6Ipon",
        "outputId": "bd241a99-1d37-421f-db1f-5927c250e728"
      },
      "execution_count": 12,
      "outputs": [
        {
          "output_type": "execute_result",
          "data": {
            "text/plain": [
              "tensor([[ 1.1000],\n",
              "        [ 1.3000],\n",
              "        [ 1.5000],\n",
              "        [ 2.0000],\n",
              "        [ 2.2000],\n",
              "        [ 2.9000],\n",
              "        [ 3.0000],\n",
              "        [ 3.2000],\n",
              "        [ 3.2000],\n",
              "        [ 3.7000],\n",
              "        [ 3.9000],\n",
              "        [ 4.0000],\n",
              "        [ 4.0000],\n",
              "        [ 4.1000],\n",
              "        [ 4.5000],\n",
              "        [ 4.9000],\n",
              "        [ 5.1000],\n",
              "        [ 5.3000],\n",
              "        [ 5.9000],\n",
              "        [ 6.0000],\n",
              "        [ 6.8000],\n",
              "        [ 7.1000],\n",
              "        [ 7.9000],\n",
              "        [ 8.2000],\n",
              "        [ 8.7000],\n",
              "        [ 9.0000],\n",
              "        [ 9.5000],\n",
              "        [ 9.6000],\n",
              "        [10.3000],\n",
              "        [10.5000]])"
            ]
          },
          "metadata": {},
          "execution_count": 12
        }
      ]
    },
    {
      "cell_type": "markdown",
      "metadata": {
        "id": "b92bfB-0rjj_"
      },
      "source": [
        "## Create Neural Network Model"
      ]
    },
    {
      "cell_type": "code",
      "execution_count": 13,
      "metadata": {
        "id": "khycyfi9rjkA",
        "colab": {
          "base_uri": "https://localhost:8080/"
        },
        "outputId": "a7d1b256-ad78-455b-95a7-1375b3da1d00"
      },
      "outputs": [
        {
          "output_type": "execute_result",
          "data": {
            "text/plain": [
              "Sequential(\n",
              "  (0): Linear(in_features=1, out_features=1, bias=True)\n",
              ")"
            ]
          },
          "metadata": {},
          "execution_count": 13
        }
      ],
      "source": [
        "model = nn.Sequential(\n",
        "          nn.Linear(1,1),\n",
        ")\n",
        "\n",
        "model"
      ]
    },
    {
      "cell_type": "markdown",
      "metadata": {
        "id": "WGbG36hvrjkB"
      },
      "source": [
        "# Setting the Parameters"
      ]
    },
    {
      "cell_type": "code",
      "execution_count": 14,
      "metadata": {
        "id": "zfKulD42rjkB"
      },
      "outputs": [],
      "source": [
        "learningRate = 0.001\n",
        "lossfunc = nn.MSELoss()\n",
        "optimizer = torch.optim.SGD(model.parameters(),lr = learningRate)   # SGD = Stochastic Gradient Descent"
      ]
    },
    {
      "cell_type": "markdown",
      "metadata": {
        "id": "fKuVCMxGrjkB"
      },
      "source": [
        "# Training the Neural Network"
      ]
    },
    {
      "cell_type": "code",
      "execution_count": 15,
      "metadata": {
        "id": "4rMshbaUrjkC",
        "colab": {
          "base_uri": "https://localhost:8080/"
        },
        "outputId": "81932571-3b62-493d-d40e-1703d829c4d9"
      },
      "outputs": [
        {
          "output_type": "stream",
          "name": "stdout",
          "text": [
            "epochs : 0 loss :  6503502336.00\n",
            "epochs : 100 loss :  144402928.00\n",
            "epochs : 200 loss :  135221456.00\n",
            "epochs : 300 loss :  126786328.00\n",
            "epochs : 400 loss :  119035736.00\n",
            "epochs : 500 loss :  111914016.00\n",
            "epochs : 600 loss :  105370184.00\n",
            "epochs : 700 loss :  99357352.00\n",
            "epochs : 800 loss :  93832440.00\n",
            "epochs : 900 loss :  88755920.00\n",
            "epochs : 1000 loss :  84091272.00\n",
            "epochs : 1100 loss :  79805160.00\n",
            "epochs : 1200 loss :  75866848.00\n",
            "epochs : 1300 loss :  72248104.00\n",
            "epochs : 1400 loss :  68923024.00\n",
            "epochs : 1500 loss :  65867736.00\n",
            "epochs : 1600 loss :  63060352.00\n",
            "epochs : 1700 loss :  60480784.00\n",
            "epochs : 1800 loss :  58110556.00\n",
            "epochs : 1900 loss :  55932648.00\n",
            "epochs : 2000 loss :  53931468.00\n",
            "epochs : 2100 loss :  52092672.00\n",
            "epochs : 2200 loss :  50403092.00\n",
            "epochs : 2300 loss :  48850600.00\n",
            "epochs : 2400 loss :  47424116.00\n",
            "epochs : 2500 loss :  46113340.00\n",
            "epochs : 2600 loss :  44908952.00\n",
            "epochs : 2700 loss :  43802312.00\n",
            "epochs : 2800 loss :  42785452.00\n",
            "epochs : 2900 loss :  41851108.00\n",
            "epochs : 3000 loss :  40992580.00\n",
            "epochs : 3100 loss :  40203704.00\n",
            "epochs : 3200 loss :  39478860.00\n",
            "epochs : 3300 loss :  38812824.00\n",
            "epochs : 3400 loss :  38200832.00\n",
            "epochs : 3500 loss :  37638472.00\n",
            "epochs : 3600 loss :  37121756.00\n",
            "epochs : 3700 loss :  36646992.00\n",
            "epochs : 3800 loss :  36210748.00\n",
            "epochs : 3900 loss :  35809920.00\n",
            "epochs : 4000 loss :  35441608.00\n",
            "epochs : 4100 loss :  35103164.00\n",
            "epochs : 4200 loss :  34792220.00\n",
            "epochs : 4300 loss :  34506476.00\n",
            "epochs : 4400 loss :  34243928.00\n",
            "epochs : 4500 loss :  34002700.00\n",
            "epochs : 4600 loss :  33781036.00\n",
            "epochs : 4700 loss :  33577356.00\n",
            "epochs : 4800 loss :  33390204.00\n",
            "epochs : 4900 loss :  33218240.00\n",
            "epochs : 5000 loss :  33060224.00\n"
          ]
        }
      ],
      "source": [
        "epochs = 5001  # Number of times we pass the data to the neural network.\n",
        "losses = torch.zeros(epochs)\n",
        "\n",
        "for epoch in range(epochs):\n",
        "    ypred = model(X)\n",
        "    loss = lossfunc(ypred,y)\n",
        "    losses[epoch] = loss\n",
        "\n",
        "    # Back Propagation\n",
        "\n",
        "    optimizer.zero_grad()     # Initializing the gradient to zero. zero_grad() restarts looping without losses from the last\n",
        "                              # step if you use the gradient method for decreasing the error (or losses).If you do not use\n",
        "                              #zero_grad() the loss will increase not decrease as required. Gradients accumulate with every backprop.\n",
        "\n",
        "    loss.backward()           # Calculate Gradient of all parameters.\n",
        "\n",
        "    optimizer.step()          # This is used to update the parameters so that error could be reduced.\n",
        "\n",
        "    if (epoch % 100) == 0:\n",
        "     print(f'epochs : {epoch} loss : {loss.detach(): 1.2f}')"
      ]
    },
    {
      "cell_type": "code",
      "source": [
        "ypred"
      ],
      "metadata": {
        "id": "gsIMopnrsp1n",
        "colab": {
          "base_uri": "https://localhost:8080/"
        },
        "outputId": "4eac36d9-8bc0-4df1-e957-50d23225bc99"
      },
      "execution_count": 16,
      "outputs": [
        {
          "output_type": "execute_result",
          "data": {
            "text/plain": [
              "tensor([[ 33779.8477],\n",
              "        [ 35755.2266],\n",
              "        [ 37730.6016],\n",
              "        [ 42669.0469],\n",
              "        [ 44644.4219],\n",
              "        [ 51558.2461],\n",
              "        [ 52545.9336],\n",
              "        [ 54521.3125],\n",
              "        [ 54521.3125],\n",
              "        [ 59459.7539],\n",
              "        [ 61435.1328],\n",
              "        [ 62422.8203],\n",
              "        [ 62422.8203],\n",
              "        [ 63410.5078],\n",
              "        [ 67361.2656],\n",
              "        [ 71312.0156],\n",
              "        [ 73287.3906],\n",
              "        [ 75262.7734],\n",
              "        [ 81188.9062],\n",
              "        [ 82176.5938],\n",
              "        [ 90078.1016],\n",
              "        [ 93041.1719],\n",
              "        [100942.6797],\n",
              "        [103905.7422],\n",
              "        [108844.1875],\n",
              "        [111807.2578],\n",
              "        [116745.6953],\n",
              "        [117733.3906],\n",
              "        [124647.2109],\n",
              "        [126622.5859]], grad_fn=<AddmmBackward0>)"
            ]
          },
          "metadata": {},
          "execution_count": 16
        }
      ]
    },
    {
      "cell_type": "code",
      "source": [
        "ypred.detach()"
      ],
      "metadata": {
        "id": "u5HqF5-isuWW",
        "colab": {
          "base_uri": "https://localhost:8080/"
        },
        "outputId": "c55877ea-b483-4cf7-95ff-b6c9eedebe12"
      },
      "execution_count": 17,
      "outputs": [
        {
          "output_type": "execute_result",
          "data": {
            "text/plain": [
              "tensor([[ 33779.8477],\n",
              "        [ 35755.2266],\n",
              "        [ 37730.6016],\n",
              "        [ 42669.0469],\n",
              "        [ 44644.4219],\n",
              "        [ 51558.2461],\n",
              "        [ 52545.9336],\n",
              "        [ 54521.3125],\n",
              "        [ 54521.3125],\n",
              "        [ 59459.7539],\n",
              "        [ 61435.1328],\n",
              "        [ 62422.8203],\n",
              "        [ 62422.8203],\n",
              "        [ 63410.5078],\n",
              "        [ 67361.2656],\n",
              "        [ 71312.0156],\n",
              "        [ 73287.3906],\n",
              "        [ 75262.7734],\n",
              "        [ 81188.9062],\n",
              "        [ 82176.5938],\n",
              "        [ 90078.1016],\n",
              "        [ 93041.1719],\n",
              "        [100942.6797],\n",
              "        [103905.7422],\n",
              "        [108844.1875],\n",
              "        [111807.2578],\n",
              "        [116745.6953],\n",
              "        [117733.3906],\n",
              "        [124647.2109],\n",
              "        [126622.5859]])"
            ]
          },
          "metadata": {},
          "execution_count": 17
        }
      ]
    },
    {
      "cell_type": "markdown",
      "metadata": {
        "id": "nU7ljgYVrjkC"
      },
      "source": [
        "# Plotting Loss Vs Epochs"
      ]
    },
    {
      "cell_type": "code",
      "execution_count": 18,
      "metadata": {
        "id": "cKtN7h5urjkC",
        "colab": {
          "base_uri": "https://localhost:8080/",
          "height": 563
        },
        "outputId": "055d898c-ea61-4bf9-e99f-fdef81535252"
      },
      "outputs": [
        {
          "output_type": "display_data",
          "data": {
            "text/plain": [
              "<Figure size 1200x600 with 1 Axes>"
            ],
            "image/png": "[encoded data removed]"
          },
          "metadata": {}
        }
      ],
      "source": [
        "plt.figure(figsize =(12,6))\n",
        "plt.plot(np.arange(epochs), losses.detach(), 'm', lw = 3)\n",
        "plt.xlabel('Epochs', fontsize = 15)\n",
        "plt.ylabel( 'Loss', fontsize = 15)\n",
        "plt.show()"
      ]
    },
    {
      "cell_type": "markdown",
      "metadata": {
        "id": "t6GN2SQjrjkD"
      },
      "source": [
        "# Weight and Bias of the Trained Model"
      ]
    },
    {
      "cell_type": "code",
      "execution_count": 19,
      "metadata": {
        "id": "-zKqlV8brjkE",
        "colab": {
          "base_uri": "https://localhost:8080/"
        },
        "outputId": "8935a30b-eaed-4759-b0b2-eb774f72b10a"
      },
      "outputs": [
        {
          "output_type": "stream",
          "name": "stdout",
          "text": [
            "[[9876.706]]\n",
            "[22916.49]\n"
          ]
        }
      ],
      "source": [
        "print(model[0].weight.detach().numpy())\n",
        "print(model[0].bias.detach().numpy())"
      ]
    },
    {
      "cell_type": "markdown",
      "source": [
        "# Creating a test data"
      ],
      "metadata": {
        "id": "ofi9QaMoMp7J"
      }
    },
    {
      "cell_type": "code",
      "source": [
        "test_data = np.linspace(0,11,30).reshape(-1,1)"
      ],
      "metadata": {
        "id": "5bGVra-PLgmT"
      },
      "execution_count": 20,
      "outputs": []
    },
    {
      "cell_type": "code",
      "source": [
        "X_test = torch.tensor(test_data, dtype = torch.float32)"
      ],
      "metadata": {
        "id": "Q1jz-Wd3LgqJ"
      },
      "execution_count": 21,
      "outputs": []
    },
    {
      "cell_type": "code",
      "source": [
        "yt = model(X_test)"
      ],
      "metadata": {
        "id": "KrzuuvGTLvTA"
      },
      "execution_count": 22,
      "outputs": []
    },
    {
      "cell_type": "code",
      "source": [
        "plt.figure(figsize =(12,6))\n",
        "plt.plot(X, y,'bs',label = 'RealData')\n",
        "plt.plot(X_test, yt.detach(),'r', label = 'Predicted Data')\n",
        "plt.legend(fontsize = 15)\n",
        "plt.show()"
      ],
      "metadata": {
        "id": "nbAFqCieLvWQ",
        "colab": {
          "base_uri": "https://localhost:8080/",
          "height": 522
        },
        "outputId": "a157bf88-cfa3-4bab-b7bd-9a96e1a919a7"
      },
      "execution_count": 23,
      "outputs": [
        {
          "output_type": "display_data",
          "data": {
            "text/plain": [
              "<Figure size 1200x600 with 1 Axes>"
            ],
            "image/png": "[encoded data removed]"
          },
          "metadata": {}
        }
      ]
    },
    {
      "cell_type": "markdown",
      "metadata": {
        "id": "T5EAI1m2rjkF"
      },
      "source": [
        "# Check the Performance of the Model"
      ]
    },
    {
      "cell_type": "code",
      "execution_count": 24,
      "metadata": {
        "id": "YPHEImuJrjkF",
        "colab": {
          "base_uri": "https://localhost:8080/"
        },
        "outputId": "a715ef19-fcb0-4085-8e12-ed4e85240fb6"
      },
      "outputs": [
        {
          "output_type": "stream",
          "name": "stdout",
          "text": [
            "RMSE: 9997.57688471685\n",
            "MAE: 92.34516954633668\n",
            "R2: 0.8624203095164156\n"
          ]
        }
      ],
      "source": [
        "from sklearn import metrics\n",
        "print('RMSE:', np.sqrt(metrics.mean_squared_error(y, yt.detach())))\n",
        "print('MAE:', np.sqrt(metrics.mean_absolute_error(y, yt.detach())))\n",
        "print('R2:', metrics.r2_score(y, yt.detach()))"
      ]
    }
  ],
  "metadata": {
    "kernelspec": {
      "display_name": "Python 3 (ipykernel)",
      "language": "python",
      "name": "python3"
    },
    "language_info": {
      "codemirror_mode": {
        "name": "ipython",
        "version": 3
      },
      "file_extension": ".py",
      "mimetype": "text/x-python",
      "name": "python",
      "nbconvert_exporter": "python",
      "pygments_lexer": "ipython3",
      "version": "3.9.7"
    },
    "colab": {
      "provenance": [],
      "include_colab_link": true
    }
  },
  "nbformat": 4,
  "nbformat_minor": 0
}